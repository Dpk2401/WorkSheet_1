{
 "cells": [
  {
   "cell_type": "markdown",
   "id": "0ccc22f2",
   "metadata": {},
   "source": [
    "11.\tWrite a python program to find the factorial of a number."
   ]
  },
  {
   "cell_type": "code",
   "execution_count": 5,
   "id": "0457bb55",
   "metadata": {},
   "outputs": [
    {
     "name": "stdout",
     "output_type": "stream",
     "text": [
      "3\n",
      "Factorial no of 3 is 6\n"
     ]
    }
   ],
   "source": [
    "num=int(input())\n",
    "fact=1\n",
    "if num<0:\n",
    "    print('Negative input')\n",
    "elif num==0:\n",
    "    print('factorial is 1 or 0')\n",
    "else:\n",
    "    for i in range(1, num+1):\n",
    "        fact=fact*i\n",
    "    \n",
    "    print('Factorial no of',num,'is', fact)"
   ]
  },
  {
   "cell_type": "markdown",
   "id": "491c7ea7",
   "metadata": {},
   "source": [
    "12.\tWrite a python program to find whether a number is prime or composite."
   ]
  },
  {
   "cell_type": "code",
   "execution_count": 9,
   "id": "b9b9ed4f",
   "metadata": {},
   "outputs": [
    {
     "name": "stdout",
     "output_type": "stream",
     "text": [
      "Enter any no= 17\n",
      "17 is a prime no\n"
     ]
    }
   ],
   "source": [
    "num=int(input('Enter any no= '))\n",
    "\n",
    "if num>1:\n",
    "    for i in range(2, num):\n",
    "        if(num % i)==0:\n",
    "            print(num, 'is not a prime no')\n",
    "            break\n",
    "        \n",
    "        else:\n",
    "            print(num,'is a prime no')\n",
    "            break\n",
    "                \n",
    "\n"
   ]
  },
  {
   "cell_type": "markdown",
   "id": "9917eb1c",
   "metadata": {},
   "source": [
    "13.\tWrite a python program to check whether a given string is palindrome or not."
   ]
  },
  {
   "cell_type": "code",
   "execution_count": 11,
   "id": "816a5592",
   "metadata": {},
   "outputs": [
    {
     "name": "stdout",
     "output_type": "stream",
     "text": [
      "Enter thr value =12321\n",
      "This no is Palidrome\n"
     ]
    }
   ],
   "source": [
    "num=int(input('Enter thr value ='))\n",
    "temp=num\n",
    "ret=0\n",
    "while(num>0):\n",
    "    x=num%10\n",
    "    ret=ret*10+x\n",
    "    num=num//10\n",
    "if(temp==ret):\n",
    "    print('This no is Palindrome')\n",
    "else:\n",
    "    print('This no is not Palindrome')"
   ]
  },
  {
   "cell_type": "markdown",
   "id": "22cc2029",
   "metadata": {},
   "source": [
    "14.\tWrite a Python program to get the third side of right-angled triangle from two given sides."
   ]
  },
  {
   "cell_type": "code",
   "execution_count": 13,
   "id": "935adf52",
   "metadata": {},
   "outputs": [
    {
     "name": "stdout",
     "output_type": "stream",
     "text": [
      "Enter Base:- 10.1\n",
      "Enter Height:-7.5\n",
      "Enter angle:- 60\n",
      "Hypotenuse 12.580143083447023\n"
     ]
    }
   ],
   "source": [
    "import math\n",
    "\n",
    "a=float(input('Enter Base:- '))\n",
    "b=float(input('Enter Height:-'))\n",
    "x=float(input('Enter angle:- '))\n",
    "\n",
    "c= math.sqrt(a**2 + b**2)\n",
    "print('Hypotenuse', c)"
   ]
  },
  {
   "cell_type": "code",
   "execution_count": null,
   "id": "2877e814",
   "metadata": {},
   "outputs": [],
   "source": []
  }
 ],
 "metadata": {
  "kernelspec": {
   "display_name": "Python 3 (ipykernel)",
   "language": "python",
   "name": "python3"
  },
  "language_info": {
   "codemirror_mode": {
    "name": "ipython",
    "version": 3
   },
   "file_extension": ".py",
   "mimetype": "text/x-python",
   "name": "python",
   "nbconvert_exporter": "python",
   "pygments_lexer": "ipython3",
   "version": "3.9.7"
  }
 },
 "nbformat": 4,
 "nbformat_minor": 5
}
